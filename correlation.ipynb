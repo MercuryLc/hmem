{
 "cells": [
  {
   "cell_type": "code",
   "execution_count": 1,
   "metadata": {
    "collapsed": true
   },
   "outputs": [],
   "source": [
    "import pandas as pd\n",
    "import numpy as np\n",
    "import matplotlib.pyplot as plt\n",
    "import scipy.stats"
   ]
  },
  {
   "cell_type": "code",
   "execution_count": 2,
   "metadata": {
    "collapsed": false
   },
   "outputs": [],
   "source": [
    "# read the memory performance metric(Xmem) and workloads performance metric(SPEC CPU 2017) from input.xlsx \n",
    "L1m = pd.read_excel(\"input.xlsx\",sheet_name='XMem')\n",
    "L2m = pd.read_excel(\"input.xlsx\",sheet_name='SPEC')"
   ]
  },
  {
   "cell_type": "code",
   "execution_count": 3,
   "metadata": {
    "collapsed": false
   },
   "outputs": [],
   "source": [
    "def unlinear_SROCC(x,y):\n",
    "    # SROCC calculation\n",
    "    print(str(scipy.stats.spearmanr(x,y)[0]),end='  ')\n",
    "def unlinear_KROCC(x,y):\n",
    "    # KROCC calculation\n",
    "    print(str(scipy.stats.kendalltau(x,y)[0]),end='  ')\n",
    "def tofloat(x):\n",
    "    # basic data conversion\n",
    "    y = []\n",
    "    for i in x:\n",
    "        y.append(float(i))\n",
    "    return y"
   ]
  },
  {
   "cell_type": "code",
   "execution_count": null,
   "metadata": {
    "collapsed": false
   },
   "outputs": [],
   "source": [
    "L1m_list = L1m.iloc[-1]\n",
    "for index,row in L2m.iterrows():\n",
    "    print(index,row['Benchmark'],row['SR1'],row['SA2'],row['SK1'],row['S5'])\n",
    "\n",
    "print(tofloat([L1m_list['SR1-BW'],L1m_list['SA2-BW'],L1m_list['SK1-BW'],L1m_list['S5-BW']]))\n",
    "print(tofloat([L1m_list['SR1-LAT'],L1m_list['SA2-LAT'],L1m_list['SK1-LAT'],L1m_list['S5-LAT']]))\n",
    "print(tofloat([L1m_list['SR1-Hmem'],L1m_list['SA2-Hmem'],L1m_list['SK1-Hmem'],L1m_list['S5-Hmem']]))\n",
    "# print(tofloat([L2_BW[0]/L2_LAT[0],L2_BW[1]/L2_LAT[1],L2_BW[2]/L2_LAT[2],L2_BW[3]/L2_LAT[3]]))\n",
    "# print(tofloat([L2_BW[0]*L2_LAT[0],L2_BW[1]*L2_LAT[1],L2_BW[2]*L2_LAT[2],L2_BW[3]*L2_LAT[3]]))"
   ]
  },
  {
   "cell_type": "code",
   "execution_count": null,
   "metadata": {
    "collapsed": false
   },
   "outputs": [],
   "source": [
    "print('Benchmark','BW','LAT','Hmem','POWER','MLP')\n",
    "for index,row in L2m.iterrows():\n",
    "    print(row['Benchmark'],end=' ')\n",
    "    # aggregate metrics\n",
    "    L1_list = tofloat([row['SR1'],row['SA2'],row['SK1'],row['S5']])\n",
    "    L2_BW = tofloat([L1m_list['SR1-BW'],L1m_list['SA2-BW'],L1m_list['SK1-BW'],L1m_list['S5-BW']])\n",
    "    L2_LAT = tofloat([L1m_list['SR1-LAT'],L1m_list['SA2-LAT'],L1m_list['SK1-LAT'],L1m_list['S5-LAT']])\n",
    "    L2_Hmem = tofloat([L1m_list['SR1-Hmem'],L1m_list['SA2-Hmem'],L1m_list['SK1-Hmem'],L1m_list['S5-Hmem']])\n",
    "    L2_POWER = tofloat([L2_BW[0]/L2_LAT[0],L2_BW[1]/L2_LAT[1],L2_BW[2]/L2_LAT[2],L2_BW[3]/L2_LAT[3]])\n",
    "    L2_MLP = tofloat([L2_BW[0]*L2_LAT[0],L2_BW[1]*L2_LAT[1],L2_BW[2]*L2_LAT[2],L2_BW[3]*L2_LAT[3]])\n",
    "    # validate the correlation relationship\n",
    "    unlinear_SROCC(L1_list, L2_BW)\n",
    "    unlinear_SROCC(L1_list, L2_LAT)\n",
    "    unlinear_SROCC(L1_list, L2_Hmem)\n",
    "    unlinear_SROCC(L1_list, L2_POWER)\n",
    "    unlinear_SROCC(L1_list, L2_MLP)\n",
    "    print()"
   ]
  },
  {
   "cell_type": "code",
   "execution_count": null,
   "metadata": {
    "collapsed": false
   },
   "outputs": [],
   "source": [
    "print('Benchmark','BW','LAT','Hmem','POWER','MLP')\n",
    "for index,row in L2m.iterrows():\n",
    "    print(row['Benchmark'],end=' ')\n",
    "    # aggregate metrics\n",
    "    L1_list = tofloat([row['SR1'],row['SA2'],row['SK1'],row['S5']])\n",
    "    L2_BW = tofloat([L1m_list['SR1-BW'],L1m_list['SA2-BW'],L1m_list['SK1-BW'],L1m_list['S5-BW']])\n",
    "    L2_LAT = tofloat([L1m_list['SR1-LAT'],L1m_list['SA2-LAT'],L1m_list['SK1-LAT'],L1m_list['S5-LAT']])\n",
    "    L2_Hmem = tofloat([L1m_list['SR1-Hmem'],L1m_list['SA2-Hmem'],L1m_list['SK1-Hmem'],L1m_list['S5-Hmem']])\n",
    "    L2_POWER = tofloat([L2_BW[0]/L2_LAT[0],L2_BW[1]/L2_LAT[1],L2_BW[2]/L2_LAT[2],L2_BW[3]/L2_LAT[3]])\n",
    "    L2_MLP = tofloat([L2_BW[0]*L2_LAT[0],L2_BW[1]*L2_LAT[1],L2_BW[2]*L2_LAT[2],L2_BW[3]*L2_LAT[3]])\n",
    "    # validate the correlation relationship\n",
    "    unlinear_KROCC(L1_list, L2_BW)\n",
    "    unlinear_KROCC(L1_list, L2_LAT)\n",
    "    unlinear_KROCC(L1_list, L2_Hmem)\n",
    "    unlinear_KROCC(L1_list, L2_POWER)\n",
    "    unlinear_KROCC(L1_list, L2_MLP)\n",
    "    print()"
   ]
  }
 ],
 "metadata": {
  "kernelspec": {
   "display_name": "Python 3",
   "language": "python",
   "name": "python3"
  },
  "language_info": {
   "codemirror_mode": {
    "name": "ipython",
    "version": 2
   },
   "file_extension": ".py",
   "mimetype": "text/x-python",
   "name": "python",
   "nbconvert_exporter": "python",
   "pygments_lexer": "ipython2",
   "version": "2.7.6"
  }
 },
 "nbformat": 4,
 "nbformat_minor": 0
}
